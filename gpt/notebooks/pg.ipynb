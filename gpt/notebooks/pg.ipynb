{
 "cells": [
  {
   "cell_type": "code",
   "execution_count": 1,
   "id": "7ad38071",
   "metadata": {},
   "outputs": [],
   "source": [
    "from gpt.interface import DataInterface\n",
    "\n"
   ]
  },
  {
   "cell_type": "code",
   "execution_count": 2,
   "id": "a8d5692c",
   "metadata": {},
   "outputs": [],
   "source": [
    "ds = DataInterface(\"../../outputs/tmp\")\n"
   ]
  },
  {
   "cell_type": "code",
   "execution_count": 3,
   "id": "12c27f34",
   "metadata": {},
   "outputs": [
    {
     "data": {
      "text/plain": [
       "array([199998, 200006,  17360, ..., 199999, 199999, 199999], shape=(1855,))"
      ]
     },
     "execution_count": 3,
     "metadata": {},
     "output_type": "execute_result"
    }
   ],
   "source": [
    "ds.load(0, load_type=\"tokens\")"
   ]
  }
 ],
 "metadata": {
  "kernelspec": {
   "display_name": ".venv",
   "language": "python",
   "name": "python3"
  },
  "language_info": {
   "codemirror_mode": {
    "name": "ipython",
    "version": 3
   },
   "file_extension": ".py",
   "mimetype": "text/x-python",
   "name": "python",
   "nbconvert_exporter": "python",
   "pygments_lexer": "ipython3",
   "version": "3.12.11"
  }
 },
 "nbformat": 4,
 "nbformat_minor": 5
}
